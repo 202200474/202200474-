{
  "nbformat": 4,
  "nbformat_minor": 0,
  "metadata": {
    "colab": {
      "provenance": [],
      "collapsed_sections": [],
      "authorship_tag": "ABX9TyP9+CSvVY3FirWd5rZGOSOz",
      "include_colab_link": true
    },
    "kernelspec": {
      "name": "python3",
      "display_name": "Python 3"
    },
    "language_info": {
      "name": "python"
    }
  },
  "cells": [
    {
      "cell_type": "markdown",
      "metadata": {
        "id": "view-in-github",
        "colab_type": "text"
      },
      "source": [
        "<a href=\"https://colab.research.google.com/github/202200474/202200474-/blob/main/202200474_%EA%B9%80%EB%82%98%ED%98%84.ipynb\" target=\"_parent\"><img src=\"https://colab.research.google.com/assets/colab-badge.svg\" alt=\"Open In Colab\"/></a>"
      ]
    },
    {
      "cell_type": "code",
      "execution_count": null,
      "metadata": {
        "colab": {
          "base_uri": "https://localhost:8080/"
        },
        "id": "lC2ODl6KxCcZ",
        "outputId": "198128c9-5a10-4b8d-e5d0-f73a1877c9f7"
      },
      "outputs": [
        {
          "output_type": "stream",
          "name": "stdout",
          "text": [
            "3\n"
          ]
        }
      ],
      "source": [
        "#202200474 김나현\n",
        "a=1\n",
        "b=2\n",
        "print (a+b)"
      ]
    },
    {
      "cell_type": "code",
      "source": [
        "#202200474 김나현\n",
        "n = int(input(\"\"))\n",
        "\n",
        "if n<=30 :\n",
        "  for i in range(1,n+1):\n",
        "    for j in range(1, i+1):\n",
        "        print(j, end=\"\")\n",
        "    print()\n",
        "else :\n",
        "  print(\"너무 많습니다.\")"
      ],
      "metadata": {
        "colab": {
          "base_uri": "https://localhost:8080/"
        },
        "id": "9_tkf6Jo5GlQ",
        "outputId": "eddff86c-9bfe-4b25-868a-5c09e1519836"
      },
      "execution_count": null,
      "outputs": [
        {
          "output_type": "stream",
          "name": "stdout",
          "text": [
            "31\n",
            "너무 많습니다.\n"
          ]
        }
      ]
    },
    {
      "cell_type": "code",
      "source": [
        "#202200474 김나현\n",
        "n = input(\"\")\n",
        "\n",
        "if int(n.isdecimal())==1:\n",
        "  if int(n)<=30 :\n",
        "    for i in range(1,int(n)+1):\n",
        "      for j in range(1, i+1):\n",
        "          print(j, end=\"\")\n",
        "      print()\n",
        "  else :\n",
        "    print(\"너무 많습니다.\")\n",
        "else :\n",
        "  print(\"정수로 입력해주세요.\")"
      ],
      "metadata": {
        "colab": {
          "base_uri": "https://localhost:8080/"
        },
        "id": "gkFHHLRGBdVq",
        "outputId": "aed1f9f7-7d22-4561-fb5b-551d99f40b80"
      },
      "execution_count": null,
      "outputs": [
        {
          "output_type": "stream",
          "name": "stdout",
          "text": [
            "2.6\n",
            "정수로 입력해주세요.\n"
          ]
        }
      ]
    }
  ]
}